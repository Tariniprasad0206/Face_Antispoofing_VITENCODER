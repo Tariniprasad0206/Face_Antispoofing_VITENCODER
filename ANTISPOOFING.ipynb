{
  "cells": [
    {
      "cell_type": "code",
      "execution_count": 1,
      "metadata": {
        "id": "e4re6yiKKJZZ"
      },
      "outputs": [],
      "source": [
        "import torch\n",
        "import torch.nn as nn\n",
        "import torch.nn.functional as F\n",
        "from torch.utils.data import DataLoader\n",
        "from torchvision import datasets, transforms\n",
        "import matplotlib.pyplot as plt\n",
        "import numpy as np\n",
        "import torch.optim as optim\n",
        "import torchvision.transforms.functional as TF\n",
        "from sklearn.metrics import confusion_matrix, classification_report\n",
        "import pandas as pd\n",
        "from tqdm import tqdm\n",
        "from sklearn import metrics\n",
        "import scikitplot as skplt\n",
        "import os\n",
        "from torch.nn.utils import clip_grad_norm_"
      ]
    },
    {
      "cell_type": "code",
      "execution_count": 2,
      "metadata": {},
      "outputs": [],
      "source": [
        "device = torch.device('cuda' if torch.cuda.is_available() else 'cpu')"
      ]
    },
    {
      "cell_type": "code",
      "execution_count": 3,
      "metadata": {},
      "outputs": [],
      "source": [
        "# def split_set(dataset, val_ratio=0.2):\n",
        "#     valsize = int(val_ratio*(len(dataset)))\n",
        "#     remsize = int(len(dataset) - valsize)\n",
        "#     rem_set, val_set = torch.utils.data.random_split(dataset, [remsize, valsize])\n",
        "#     return rem_set, val_set"
      ]
    },
    {
      "cell_type": "code",
      "execution_count": 4,
      "metadata": {
        "colab": {
          "base_uri": "https://localhost:8080/"
        },
        "id": "ER7FgLLJKUCB",
        "outputId": "958f7428-98f8-4142-ff83-93bcc7f4e522"
      },
      "outputs": [
        {
          "name": "stdout",
          "output_type": "stream",
          "text": [
            "torch.Size([2, 3, 224, 224])\n"
          ]
        }
      ],
      "source": [
        "# # Paths for the new dataset\n",
        "# # data_path = \"/content/NUAcrop_TESTINGPURPOSE.zip\"  # Verify this path is correct\n",
        "# extract_path = \"D:\\\\NIT INTERNSHIP\\\\LCC_FASD\\\\training\"# Use a single '/' for the beginning of the path\n",
        "# validation_path = \"\"D:\\\\NIT INTERNSHIP\\\\LCC_FASD\\\\development\"\"\n",
        "\n",
        "# # Check if the zip file exists and is a valid zip file\n",
        "# # if not os.path.exists(data_path):\n",
        "# #     raise FileNotFoundError(f\"The file {data_path} does not exist.\")\n",
        "# # if not zipfile.is_zipfile(data_path):\n",
        "# #     raise ValueError(f\"The file {data_path} is not a valid zip file.\")\n",
        "\n",
        "# # Extract the zip file\n",
        "# # with zipfile.ZipFile(data_path, 'r') as zip_ref:\n",
        "# #     zip_ref.extractall(extract_path)\n",
        "# # Define transformations for the dataset\n",
        "# transform = transforms.Compose([\n",
        "#     transforms.Resize((224, 224)),  # Resize images to 224x224\n",
        "#     transforms.ToTensor(),          # Convert images to PyTorch tensors\n",
        "#     transforms.Normalize(mean=[0.485, 0.456, 0.406], std=[0.229, 0.224, 0.225])  # Normalize with mean and std dev for pre-trained models\n",
        "# ])\n",
        "\n",
        "# # Load the dataset from the extracted directory\n",
        "# # dataset = datasets.ImageFolder(root=extract_path, transform=transform)  # Use the extracted directory\n",
        "# trainset, valset = (dataset, val_ratio=0.10)\n",
        "# train_loader = DataLoader(trainset, batch_size=2, shuffle=True)\n",
        "# val_loader = DataLoader(valset = validation_path, batch_size=2, shuffle=False)\n",
        "\n",
        "# # Example to check the dataset\n",
        "# data_iter = iter(train_loader)\n",
        "# images, labels = next(data_iter)\n",
        "# print(images.shape)  # Should print (batch_size, 3, H, W)\n",
        "\n",
        "\n",
        "\n",
        "\n",
        "\n",
        "\n",
        "# Paths for the new dataset\n",
        "train_path = \"D:\\\\NIT INTERNSHIP\\\\LCC_FASD\\\\training\"  # Path for the training data\n",
        "validation_path = \"D:\\\\NIT INTERNSHIP\\\\LCC_FASD\\\\development\"  # Path for the validation data\n",
        "\n",
        "# Define transformations for the dataset\n",
        "transform = transforms.Compose([\n",
        "    transforms.Resize((224, 224)),  # Resize images to 224x224\n",
        "    transforms.ToTensor(),          # Convert images to PyTorch tensors\n",
        "    transforms.Normalize(mean=[0.485, 0.456, 0.406], std=[0.229, 0.224, 0.225])  # Normalize with mean and std dev for pre-trained models\n",
        "])\n",
        "\n",
        "# Load the training dataset from the specified directory\n",
        "train_dataset = datasets.ImageFolder(root=train_path, transform=transform)\n",
        "\n",
        "# Load the validation dataset from the specified directory\n",
        "val_dataset = datasets.ImageFolder(root=validation_path, transform=transform)\n",
        "\n",
        "# Create DataLoader instances for training and validation datasets\n",
        "train_loader = DataLoader(train_dataset, batch_size=2, shuffle=True)\n",
        "val_loader = DataLoader(val_dataset, batch_size=2, shuffle=False)\n",
        "\n",
        "# Example to check the dataset\n",
        "data_iter = iter(train_loader)\n",
        "images, labels = next(data_iter)\n",
        "print(images.shape)  # Should print (batch_size, 3, 224, 224)"
      ]
    },
    {
      "cell_type": "code",
      "execution_count": 5,
      "metadata": {
        "id": "LUrEWFeOKUHX"
      },
      "outputs": [],
      "source": [
        "class PatchEmbedding(nn.Module):\n",
        "    def __init__(self, img_size, patch_size, in_channels, embed_dim):\n",
        "        super(PatchEmbedding, self).__init__()\n",
        "        self.patch_size = patch_size\n",
        "        self.num_patches = (img_size // patch_size) ** 2\n",
        "        self.proj = nn.Conv2d(in_channels, embed_dim, kernel_size=patch_size, stride=patch_size)\n",
        "\n",
        "    def forward(self, x):\n",
        "        x = x.float()\n",
        "        x = self.proj(x)  # (B, embed_dim, H/patch_size, W/patch_size)\n",
        "        x = x.flatten(2)  # (B, embed_dim, num_patches)\n",
        "        x = x.transpose(1, 2)  # (B, num_patches, embed_dim)\n",
        "        return x"
      ]
    },
    {
      "cell_type": "code",
      "execution_count": 6,
      "metadata": {
        "id": "A6WZbKn5KUKP"
      },
      "outputs": [],
      "source": [
        "class TransformerEncoderLayer(nn.Module):\n",
        "    def __init__(self, embed_dim, num_heads, mlp_ratio=4.0, dropout=0.1):\n",
        "        super(TransformerEncoderLayer, self).__init__()\n",
        "        self.self_attn = nn.MultiheadAttention(embed_dim, num_heads, dropout=dropout)\n",
        "        self.mlp = nn.Sequential(\n",
        "            nn.Linear(embed_dim, int(embed_dim * mlp_ratio)),\n",
        "            nn.GELU(),\n",
        "            nn.Linear(int(embed_dim * mlp_ratio), embed_dim)\n",
        "        )\n",
        "        self.norm1 = nn.LayerNorm(embed_dim)\n",
        "        self.norm2 = nn.LayerNorm(embed_dim)\n",
        "        self.dropout = nn.Dropout(dropout)\n",
        "\n",
        "    def forward(self, x):\n",
        "        x2 = self.norm1(x)\n",
        "        x = x + self.dropout(self.self_attn(x2, x2, x2)[0])\n",
        "        x2 = self.norm2(x)\n",
        "        x = x + self.dropout(self.mlp(x2))\n",
        "        return x"
      ]
    },
    {
      "cell_type": "code",
      "execution_count": 7,
      "metadata": {
        "id": "bvYnKUxuKUNY"
      },
      "outputs": [],
      "source": [
        "class VisionTransformer(nn.Module):\n",
        "    def __init__(self, img_size, patch_size, in_channels, embed_dim, num_layers, num_heads):\n",
        "        super(VisionTransformer, self).__init__()\n",
        "        self.patch_embedding = PatchEmbedding(img_size, patch_size, in_channels, embed_dim)\n",
        "        self.pos_embedding = nn.Parameter(torch.zeros(1, (img_size // patch_size) ** 2, embed_dim))\n",
        "        self.encoder_layers = nn.ModuleList([TransformerEncoderLayer(embed_dim, num_heads) for _ in range(num_layers)])\n",
        "        self.layer_norm = nn.LayerNorm(embed_dim)\n",
        "\n",
        "    def forward(self, x):\n",
        "        x = x.float().to(device)\n",
        "        B = x.size(0)\n",
        "        x = self.patch_embedding(x)\n",
        "        x = x + self.pos_embedding\n",
        "\n",
        "        for layer in self.encoder_layers:\n",
        "            x = layer(x)\n",
        "\n",
        "        x = self.layer_norm(x)\n",
        "        # print(f\"VisionTransformer output shape: {x.shape}\")  # Debugging statement\n",
        "        return x  # Returning the full sequence\n",
        "\n"
      ]
    },
    {
      "cell_type": "code",
      "execution_count": 8,
      "metadata": {
        "id": "3an-Vtf0KUPa"
      },
      "outputs": [],
      "source": [
        "class TransformerDecoderLayer(nn.Module):\n",
        "    def __init__(self, embed_dim, num_heads, mlp_ratio=4.0, dropout=0.1):\n",
        "        super(TransformerDecoderLayer, self).__init__()\n",
        "        self.self_attn = nn.MultiheadAttention(embed_dim, num_heads, dropout=dropout)\n",
        "        self.cross_attn = nn.MultiheadAttention(embed_dim, num_heads, dropout=dropout)\n",
        "        self.mlp = nn.Sequential(\n",
        "            nn.Linear(embed_dim, int(embed_dim * mlp_ratio)),\n",
        "            nn.GELU(),\n",
        "            nn.Linear(int(embed_dim * mlp_ratio), embed_dim)\n",
        "        )\n",
        "        self.norm1 = nn.LayerNorm(embed_dim)\n",
        "        self.norm2 = nn.LayerNorm(embed_dim)\n",
        "        self.norm3 = nn.LayerNorm(embed_dim)\n",
        "        self.dropout = nn.Dropout(dropout)\n",
        "\n",
        "    def forward(self, tgt, memory):\n",
        "        tgt2 = self.norm1(tgt)\n",
        "        tgt = tgt + self.dropout(self.self_attn(tgt2, tgt2, tgt2)[0])\n",
        "        tgt2 = self.norm2(tgt)\n",
        "        tgt = tgt + self.dropout(self.cross_attn(tgt2, memory, memory)[0])\n",
        "        tgt2 = self.norm3(tgt)\n",
        "        tgt = tgt + self.dropout(self.mlp(tgt2))\n",
        "        return tgt"
      ]
    },
    {
      "cell_type": "code",
      "execution_count": 9,
      "metadata": {
        "id": "dfoqicQxKUR4"
      },
      "outputs": [],
      "source": [
        "class CrossLayerRelationAttention(nn.Module):\n",
        "    def __init__(self, embed_dim):\n",
        "        super(CrossLayerRelationAttention, self).__init__()\n",
        "        self.transform = nn.Sequential(\n",
        "            nn.Conv2d(embed_dim, embed_dim, kernel_size=1),\n",
        "            nn.BatchNorm2d(embed_dim),\n",
        "            nn.ReLU(inplace=True)\n",
        "        )\n",
        "        self.embedding_func_global = nn.Sequential(\n",
        "            nn.Conv2d(embed_dim, embed_dim, kernel_size=1),\n",
        "            nn.BatchNorm2d(embed_dim),\n",
        "            nn.ReLU(inplace=True)\n",
        "        )\n",
        "        self.embedding_func_local = nn.Sequential(\n",
        "            nn.Conv2d(embed_dim * 2, embed_dim, kernel_size=1),\n",
        "            nn.BatchNorm2d(embed_dim),\n",
        "            nn.ReLU(inplace=True)\n",
        "        )\n",
        "        self.sigmoid = nn.Sigmoid()\n",
        "\n",
        "    def forward(self, z1, z2):\n",
        "        B, L, C = z1.shape\n",
        "\n",
        "        # Adjust z1 and z2 dimensions for convolution\n",
        "        z1 = z1.permute(0, 2, 1).unsqueeze(3)  # Shape (B, C, L, 1)\n",
        "        z2 = z2.permute(0, 2, 1).unsqueeze(3)  # Shape (B, C, L, 1)\n",
        "\n",
        "        phi_z1 = self.transform(z1)\n",
        "        phi_z2 = self.transform(z2)\n",
        "\n",
        "        # Reshape for pairwise relation calculation\n",
        "        phi_z1_flat = phi_z1.view(B, C, L)\n",
        "        phi_z2_flat = phi_z2.view(B, C, L)\n",
        "\n",
        "        pairwise_relation = torch.matmul(phi_z1_flat.transpose(1, 2), phi_z2_flat)\n",
        "\n",
        "        R = torch.cat([pairwise_relation, pairwise_relation.transpose(1, 2)], dim=-1)\n",
        "\n",
        "        # Reshape R to (B, C, L, 2L) for convolution\n",
        "        R = R.view(B, 1, L, 2 * L).expand(B, C, L, 2 * L)\n",
        "\n",
        "        global_relation = self.embedding_func_global(R)\n",
        "\n",
        "        # Combine z1 and z2 for local importance calculation\n",
        "        z_combined = torch.cat((z1, z2), dim=1)  # Shape (B, 2C, L, 1)\n",
        "        local_importance = self.embedding_func_local(z_combined)\n",
        "\n",
        "        importance_score = self.sigmoid(global_relation + local_importance)\n",
        "\n",
        "        weighted_patches = importance_score * (z1 + z2)\n",
        "\n",
        "        # Ensure weighted_patches has the correct size\n",
        "        weighted_patches = weighted_patches.view(B, C, L, -1).mean(dim=-1)\n",
        "\n",
        "        return weighted_patches.permute(0, 2, 1)  # Reshape to (B, L, C)"
      ]
    },
    {
      "cell_type": "code",
      "execution_count": 10,
      "metadata": {
        "id": "kvLEVN6IKUUi"
      },
      "outputs": [],
      "source": [
        "def Polarization(img):\n",
        "    img = transforms.functional.to_pil_image(img, mode=None)\n",
        "    # Apply transformations\n",
        "    img = TF.to_grayscale(img, num_output_channels=3)  # Convert to grayscale with 3 channels\n",
        "    img = TF.adjust_contrast(img, 2.0)  # Increase contrast\n",
        "    img = TF.adjust_brightness(img, 1.2)  # Increase brightness\n",
        "    img = transforms.functional.pil_to_tensor(img)\n",
        "\n",
        "    return img\n",
        "\n",
        "def batch_polarization(batch_img):\n",
        "    batch = torch.stack([Polarization(img) for img in batch_img], dim=0)\n",
        "    return batch"
      ]
    },
    {
      "cell_type": "code",
      "execution_count": 11,
      "metadata": {
        "id": "-7xoCtZwKUXD"
      },
      "outputs": [],
      "source": [
        "def Polarization(img):\n",
        "    img = transforms.functional.to_pil_image(img, mode=None)\n",
        "    # Apply transformations\n",
        "    img = TF.to_grayscale(img, num_output_channels=3)  # Convert to grayscale with 3 channels\n",
        "    img = TF.adjust_contrast(img, 2.0)  # Increase contrast\n",
        "    img = TF.adjust_brightness(img, 1.2)  # Increase brightness\n",
        "    img = transforms.functional.pil_to_tensor(img)\n",
        "    return img\n",
        "\n",
        "def batch_polarization(batch_img):\n",
        "    batch = torch.stack([Polarization(img) for img in batch_img], dim=0)\n",
        "    return batch\n",
        "\n",
        "def show_images(images, nrow=5, ncol=5):\n",
        "    fig, axes = plt.subplots(nrow, ncol, figsize=(15, 15))\n",
        "    for i, ax in enumerate(axes.flatten()):\n",
        "        if i < len(images):\n",
        "            img = images[i].permute(1, 2, 0).numpy()  # Convert to HWC format for plotting\n",
        "            ax.imshow(img)\n",
        "            ax.axis('off')\n",
        "    plt.show()"
      ]
    },
    {
      "cell_type": "code",
      "execution_count": 12,
      "metadata": {
        "id": "RyjJwmcGK5Yo"
      },
      "outputs": [],
      "source": [
        "class CDCLayer(nn.Module):\n",
        "    def __init__(self, in_channels, out_channels, kernel_size=3, padding=1):\n",
        "        super(CDCLayer, self).__init__()\n",
        "        self.conv = nn.Conv2d(in_channels * 2, out_channels, kernel_size, padding=padding)\n",
        "\n",
        "    def forward(self, x):\n",
        "        # print(x.shape)  # Debugging statement\n",
        "        # Compute central differences in both x and y directions\n",
        "        x_padded = F.pad(x, (1, 1, 1, 1), mode='replicate')\n",
        "        # print(x_padded.shape)  # Debugging statement\n",
        "        central_diff_x = x_padded[:, :, 1:-1, :-2] - x_padded[:, :, 1:-1, 2:]\n",
        "        central_diff_y = x_padded[:, :, :-2, 1:-1] - x_padded[:, :, 2:, 1:-1]\n",
        "\n",
        "        # Combine the central differences\n",
        "        # print(central_diff_x.shape, central_diff_y.shape)  # Debugging statement\n",
        "        central_diff = torch.cat((central_diff_x, central_diff_y), dim=1)\n",
        "        central_diff = central_diff.float().to(device)\n",
        "        # print(central_diff)\n",
        "\n",
        "        # Apply convolution\n",
        "        out = self.conv(central_diff)\n",
        "        return out\n"
      ]
    },
    {
      "cell_type": "code",
      "execution_count": 13,
      "metadata": {
        "colab": {
          "base_uri": "https://localhost:8080/"
        },
        "id": "Tas6I_MrK5cn",
        "outputId": "c65ccf06-844c-4105-e177-1fb735d25c01"
      },
      "outputs": [],
      "source": [
        "class FaceAntiSpoofingModel(nn.Module):\n",
        "    def __init__(self, img_size, patch_size, in_channels, embed_dim, num_layers, num_heads):\n",
        "        super(FaceAntiSpoofingModel, self).__init__()\n",
        "        self.patch_size = patch_size\n",
        "        self.vit = VisionTransformer(img_size, patch_size, in_channels, embed_dim, num_layers, num_heads)\n",
        "        self.encoder_layer = TransformerEncoderLayer(embed_dim, num_heads)\n",
        "        self.cra = CrossLayerRelationAttention(embed_dim)\n",
        "\n",
        "        self.CDCBlock = nn.Sequential(\n",
        "            CDCLayer(in_channels=3, out_channels=16, kernel_size=3, padding=1),\n",
        "            nn.ReLU(inplace=False),\n",
        "            nn.AvgPool2d(2, stride=2),\n",
        "\n",
        "            CDCLayer(in_channels=16, out_channels=32, kernel_size=3, padding=1),\n",
        "            nn.BatchNorm2d(32),\n",
        "            nn.ReLU(inplace=False),\n",
        "            # nn.Dropout(0.2),\n",
        "            nn.MaxPool2d(2, stride=2),\n",
        "\n",
        "            CDCLayer(in_channels=32, out_channels=64, kernel_size=3, padding=1),\n",
        "            nn.BatchNorm2d(64),\n",
        "            nn.ReLU(inplace=False),\n",
        "            nn.MaxPool2d(2, stride=2),\n",
        "\n",
        "            CDCLayer(in_channels=64, out_channels=128, kernel_size=3, padding=1),\n",
        "            nn.BatchNorm2d(128),\n",
        "            nn.ReLU(inplace=False),\n",
        "            nn.MaxPool2d(2, stride=2),\n",
        "        )\n",
        "\n",
        "        # self.CNNBlock = nn.Sequential(\n",
        "        #     nn.Conv2d(in_channels=3, out_channels=16, kernel_size=3, padding=1),\n",
        "        #     nn.ReLU(inplace=False),\n",
        "        #     nn.AvgPool2d(2, stride=1),\n",
        "\n",
        "        #     nn.Conv2d(in_channels=16, out_channels=32, kernel_size=3, padding=1),\n",
        "        #     nn.BatchNorm2d(32),\n",
        "        #     nn.ReLU(inplace=False),\n",
        "        #     # nn.Dropout(0.2),\n",
        "        #     nn.MaxPool2d(2, stride=1),\n",
        "\n",
        "        #     nn.Conv2d(in_channels=32, out_channels=64, kernel_size=3, padding=1),\n",
        "        #     nn.BatchNorm2d(64),\n",
        "        #     nn.ReLU(inplace=False),\n",
        "        #     nn.MaxPool2d(2, stride=2),\n",
        "\n",
        "        #     nn.Conv2d(in_channels=64, out_channels=128, kernel_size=3, padding=1),\n",
        "        #     nn.BatchNorm2d(128),\n",
        "        #     nn.ReLU(inplace=False),\n",
        "        #     nn.MaxPool2d(2, stride=2),\n",
        "\n",
        "        #     nn.Conv2d(in_channels=128, out_channels=256, kernel_size=3, padding=1),\n",
        "        #     nn.BatchNorm2d(256),\n",
        "        #     nn.ReLU(inplace=False),\n",
        "        #     nn.MaxPool2d(2, stride=2)\n",
        "        # )\n",
        "\n",
        "        self.fcblock = nn.Sequential(\n",
        "            nn.Linear(896*14*14, 2048),\n",
        "            nn.ReLU(inplace=False),\n",
        "\n",
        "            nn.Linear(2048, 512),\n",
        "            nn.ReLU(inplace=False),\n",
        "\n",
        "            nn.Linear(512, 2),\n",
        "            nn.Sigmoid()\n",
        "        )\n",
        "\n",
        "        self.adaptive_avg_pool = nn.AdaptiveAvgPool2d(14)\n",
        "        # self.drop = nn.Dropout(0.2)\n",
        "\n",
        "    def forward(self, x):\n",
        "        B = x.size(0)\n",
        "        img_size = x.size(2)\n",
        "\n",
        "        # Apply polarization\n",
        "        p = batch_polarization(x).float().to(device)\n",
        "        # print(p.shape)\n",
        "\n",
        "        # Apply VIT\n",
        "        Vout1 = self.vit(x)\n",
        "\n",
        "        # Apply encoder layers sequentially\n",
        "        eout2 = self.encoder_layer(Vout1)\n",
        "        eout3 = self.encoder_layer(eout2)\n",
        "        eout4 = self.encoder_layer(eout3)\n",
        "\n",
        "        # Apply CRA in the specified order\n",
        "        Cout1 = self.cra(eout3, eout4)\n",
        "        Cout2 = self.cra(eout2, Cout1)\n",
        "        Cout3 = self.cra(Vout1, Cout2)\n",
        "\n",
        "        del Vout1, eout2, eout3, eout4, Cout1, Cout2, x\n",
        "\n",
        "        patch_dim = int((img_size // self.patch_size))\n",
        "        Cout3 = Cout3.view(B, patch_dim, patch_dim, -1)\n",
        "        Cout3 = torch.permute(Cout3, (0, 3, 1, 2))\n",
        "\n",
        "        # Apply CDC in the specified order\n",
        "        cdc = self.CDCBlock(p)\n",
        "        # cdc = self.CNNBlock(x)\n",
        "        # print(cdc.shape)\n",
        "\n",
        "        # Concatenate with CRA3 output\n",
        "        cdc = torch.cat((cdc, Cout3), dim=1)\n",
        "\n",
        "        # cdc = self.drop(cdc)\n",
        "        # Flatten output for concatenation\n",
        "        cdc = cdc.view(B, -1)\n",
        "        # print(cdc.shape)\n",
        "        del Cout3\n",
        "\n",
        "        # Apply linear layers\n",
        "        cdc = self.fcblock(cdc)\n",
        "        return cdc\n",
        "\n",
        "# Example instantiation and forward pass\n",
        "model = FaceAntiSpoofingModel(img_size=224, patch_size=16, in_channels=3, embed_dim=768, num_layers=12, num_heads=12).to(device)\n",
        "# out = model(images)\n",
        "# print(out.shape)"
      ]
    },
    {
      "cell_type": "code",
      "execution_count": 14,
      "metadata": {},
      "outputs": [],
      "source": [
        "def evaluation(model, dataloader, device='cpu'):\n",
        "    total, correct, accu = 0, 0, 0\n",
        "    with tqdm(dataloader, unit=\"batch\") as teval:\n",
        "        for data in teval:\n",
        "            teval.set_description(f\"Validation\")\n",
        "            input, labels = data\n",
        "            input, labels = input.to(device), labels.to(device)\n",
        "            labels = labels.to(device)\n",
        "            \n",
        "            outputs = model(input)\n",
        "\n",
        "            _, pred = torch.max(outputs.data, 1)\n",
        "            total += labels.size(0)\n",
        "            correct += (pred == labels).sum().item()\n",
        "            accu = 100 * correct / total\n",
        "            teval.set_postfix(Accuracy=accu)\n",
        "    return accu"
      ]
    },
    {
      "cell_type": "code",
      "execution_count": 15,
      "metadata": {
        "colab": {
          "background_save": true,
          "base_uri": "https://localhost:8080/"
        },
        "id": "OrIcQZHcMEQB",
        "outputId": "3115054b-f5f3-4f1c-9c9f-43e3f64a4cfa"
      },
      "outputs": [],
      "source": [
        "def train(model, train_loder, val_loader, Optimizer, loss_fn, epochs, start_epoch=1, model_path=None, device='cpu', lr_scheduler=None, earlystop_threshold=3):\n",
        "    epochs = epochs+1\n",
        "    loss_arr = []\n",
        "    loss_epoch_arr = []\n",
        "    max_valacc = -1\n",
        "    best_epoch = -1\n",
        "    if not model_path:\n",
        "        print(\"Path to save the model is not given. The model will not be saved in the scenario of early stoping.\")\n",
        "    for epoch in range(start_epoch, epochs):\n",
        "\n",
        "        with tqdm(train_loder, unit=\"batch\") as tepoch:\n",
        "            total, correct = 0, 0\n",
        "            for i, data in enumerate(tepoch, 0):\n",
        "                tepoch.set_description(f\"Epoch {epoch}\")\n",
        "\n",
        "                inputs, labels = data\n",
        "                inputs, labels = inputs.to(device), labels.to(device)\n",
        "                labels =  labels.to(device)\n",
        "\n",
        "                with torch.autograd.set_detect_anomaly(True):\n",
        "                    Optimizer.zero_grad()\n",
        "\n",
        "                    outputs = model(inputs)\n",
        "                    loss = loss_fn(outputs, labels)\n",
        "                    loss.backward()\n",
        "                    clip_grad_norm_(model.parameters(), max_norm = 1.0)\n",
        "                    Optimizer.step()\n",
        "\n",
        "                _, pred = torch.max(outputs.data, 1)\n",
        "                total += labels.size(0)\n",
        "                correct += (pred == labels).sum().item()\n",
        "                tepoch.set_postfix(Training_loss=loss.item(), Traning_accuracy = (100 * correct / total), lr= Optimizer.param_groups[0][\"lr\"])\n",
        "                \n",
        "                del inputs, labels, outputs\n",
        "                torch.cuda.empty_cache()\n",
        "                \n",
        "                loss_arr.append(loss.item())\n",
        "\n",
        "        if lr_scheduler:\n",
        "            lr_scheduler.step()         \n",
        "        loss_epoch_arr.append(loss.item())\n",
        "\n",
        "        valac = evaluation(model, val_loader, device=device)\n",
        "            \n",
        "        if valac > max_valacc:\n",
        "            max_valacc = valac\n",
        "            best_epoch = epoch\n",
        "            if model_path:\n",
        "                torch.save(model, model_path)\n",
        "                print(\"saving model..................Done!\")\n",
        "            else:\n",
        "                print(\"No path to save model!!!\")\n",
        "                \n",
        "        if max_valacc == valac:\n",
        "            if (epoch - best_epoch) > earlystop_threshold:\n",
        "                print(\"Early stopped training at epoch %d with best validation accuracy %0.2f\" % (epoch, max_valacc))\n",
        "                if model_path:\n",
        "                    torch.save(model, model_path)\n",
        "                    print(\"saving model..................Done!\")\n",
        "                else:\n",
        "                    print(\"No path to save model!!!\")\n",
        "                break #Terminate training loop\n",
        "            else:\n",
        "                continue\n",
        "\n",
        "    plt.plot(loss_epoch_arr)\n",
        "    return model"
      ]
    },
    {
      "cell_type": "code",
      "execution_count": 16,
      "metadata": {},
      "outputs": [],
      "source": [
        "# Change model parameters as per the need\n",
        "\n",
        "model_path = 'face_anti_spoofing_model' + \"weights.pt\"\n",
        "epochs = 30\n",
        "earlystop_thres = 4\n",
        "loss_fn = nn.CrossEntropyLoss()\n",
        "# loss_fn = nn.\n",
        "Optimizer = torch.optim.Adadelta(model.parameters(), lr = 0.001)\n",
        "# scheduler = torch.optim.lr_scheduler.LambdaLR(optimizer=Optimizer, lr_lambda=lr_lambda)\n",
        "device = torch.device('cuda' if torch.cuda.is_available() else 'cpu')"
      ]
    },
    {
      "cell_type": "code",
      "execution_count": 17,
      "metadata": {},
      "outputs": [
        {
          "name": "stderr",
          "output_type": "stream",
          "text": [
            "Epoch 1:   4%|▍         | 165/4150 [2:36:26<46:09:21, 41.70s/batch, Training_loss=0.516, Traning_accuracy=83.6, lr=0.001]   "
          ]
        }
      ],
      "source": [
        "%%time\n",
        "\n",
        "# Training the model\n",
        "\n",
        "model = train(\n",
        "    model, \n",
        "    train_loader, \n",
        "    val_loader, \n",
        "    Optimizer=Optimizer, \n",
        "    loss_fn=loss_fn, \n",
        "    epochs=epochs,\n",
        "    # start_epoch=start_epoch,\n",
        "    model_path=model_path, \n",
        "    device=device,\n",
        "    lr_scheduler = None,\n",
        "    earlystop_threshold = earlystop_thres\n",
        "    )\n",
        "\n",
        "current_time = datetime.datetime.now()\n",
        "print(\"Time:\", current_time)"
      ]
    },
    {
      "cell_type": "code",
      "execution_count": null,
      "metadata": {},
      "outputs": [],
      "source": []
    },
    {
      "cell_type": "code",
      "execution_count": null,
      "metadata": {},
      "outputs": [],
      "source": []
    },
    {
      "cell_type": "code",
      "execution_count": null,
      "metadata": {},
      "outputs": [],
      "source": []
    },
    {
      "cell_type": "code",
      "execution_count": null,
      "metadata": {},
      "outputs": [],
      "source": [
        "# torch.save(model, model_path)"
      ]
    },
    {
      "cell_type": "markdown",
      "metadata": {},
      "source": []
    },
    {
      "cell_type": "code",
      "execution_count": 54,
      "metadata": {},
      "outputs": [],
      "source": [
        "# model = torch.load(model_path)"
      ]
    },
    {
      "cell_type": "code",
      "execution_count": 55,
      "metadata": {},
      "outputs": [],
      "source": [
        "device = torch.device('cuda' if torch.cuda.is_available() else 'cpu')"
      ]
    },
    {
      "cell_type": "code",
      "execution_count": 56,
      "metadata": {
        "id": "LjB_rnM6MLjv"
      },
      "outputs": [],
      "source": [
        "def prediction(model, dataloader, device='cpu'):\n",
        "    predictions = []\n",
        "    labelss = []\n",
        "    pred_prob = []\n",
        "    with tqdm(dataloader, unit='Batch') as tpred:\n",
        "        for data in tpred:\n",
        "            tpred.set_description(f\"Testing\")\n",
        "\n",
        "            inputs, labels = data\n",
        "            inputs, labels = inputs.to(device), labels.to(device)\n",
        "            labels = labels.to(device)\n",
        "            \n",
        "            outputs = model(inputs)\n",
        "            outs = outputs.detach()\n",
        "            \n",
        "            _, pred = torch.max(outputs.data, 1)\n",
        "            \n",
        "            predictions.extend(pred.cpu().numpy())\n",
        "            labelss.extend(labels.cpu().numpy())\n",
        "            pred_prob.extend(outs.cpu().numpy())\n",
        "            \n",
        "    return predictions, labelss, pred_prob"
      ]
    },
    {
      "cell_type": "code",
      "execution_count": 57,
      "metadata": {},
      "outputs": [
        {
          "name": "stdout",
          "output_type": "stream",
          "text": [
            "torch.Size([16, 3, 224, 224])\n"
          ]
        }
      ],
      "source": [
        "extract_path = \"D:\\NIT INTERNSHIP\\NUAcrop_TESTINGPURPOSE\\Train\" # Use a single '/' for the beginning of the path\n",
        "\n",
        "# Check if the zip file exists and is a valid zip file\n",
        "# if not os.path.exists(data_path):\n",
        "#     raise FileNotFoundError(f\"The file {data_path} does not exist.\")\n",
        "# if not zipfile.is_zipfile(data_path):\n",
        "#     raise ValueError(f\"The file {data_path} is not a valid zip file.\")\n",
        "\n",
        "# Extract the zip file\n",
        "# with zipfile.ZipFile(data_path, 'r') as zip_ref:\n",
        "#     zip_ref.extractall(extract_path)\n",
        "# Define transformations for the dataset\n",
        "transform = transforms.Compose([\n",
        "    transforms.Resize((224, 224)),  # Resize images to 224x224\n",
        "    transforms.ToTensor(),          # Convert images to PyTorch tensors\n",
        "    transforms.Normalize(mean=[0.485, 0.456, 0.406], std=[0.229, 0.224, 0.225])  # Normalize with mean and std dev for pre-trained models\n",
        "])\n",
        "\n",
        "# Load the dataset from the extracted directory\n",
        "dataset = datasets.ImageFolder(root=extract_path, transform=transform)  # Use the extracted directory\n",
        "data_loader = DataLoader(dataset, batch_size=16, shuffle=True)\n",
        "\n",
        "# Example to check the dataset\n",
        "data_iter = iter(data_loader)\n",
        "images, labels = next(data_iter)\n",
        "print(images.shape)  # Should print (batch_size, 3, H, W)"
      ]
    },
    {
      "cell_type": "code",
      "execution_count": 58,
      "metadata": {},
      "outputs": [
        {
          "name": "stderr",
          "output_type": "stream",
          "text": [
            "Testing: 100%|██████████| 568/568 [02:42<00:00,  3.49Batch/s]\n"
          ]
        }
      ],
      "source": [
        "predictions, labelss, pred_prob = prediction(model, data_loader, device)"
      ]
    },
    {
      "cell_type": "code",
      "execution_count": 59,
      "metadata": {},
      "outputs": [],
      "source": [
        "def calc_metrices(TP, TN, FP, FN):\n",
        "\n",
        "    APCER = FP / (TN + FP)\n",
        "    BPCER = FN / (FN + TP)\n",
        "    ACER = (APCER + BPCER) / 2\n",
        "\n",
        "    return APCER, BPCER, ACER"
      ]
    },
    {
      "cell_type": "code",
      "execution_count": 61,
      "metadata": {},
      "outputs": [
        {
          "name": "stdout",
          "output_type": "stream",
          "text": [
            "Accuracy ->  84.72971485192117\n",
            "True Positive -> 2089   True Negative -> 5607\n",
            "False Positive -> 134   False Negative -> 1253\n",
            "APCER -> 0.0233408813795506,  BPCER -> 0.3749251944943148,  ACER -> 0.19913303793693268\n"
          ]
        },
        {
          "data": {
            "image/png": "[encoded data removed]",
            "text/plain": [
              "<Figure size 640x480 with 2 Axes>"
            ]
          },
          "metadata": {},
          "output_type": "display_data"
        },
        {
          "data": {
            "image/png": "[encoded data removed]",
            "text/plain": [
              "<Figure size 640x480 with 1 Axes>"
            ]
          },
          "metadata": {},
          "output_type": "display_data"
        }
      ],
      "source": [
        "# Calculation and display of various metrics and curves\n",
        "\n",
        "accu = metrics.accuracy_score(labelss, predictions)\n",
        "conf_met = metrics.confusion_matrix(y_true=labelss, y_pred=predictions, labels=[0, 1])\n",
        "tp, fn, fp, tn = conf_met.ravel()\n",
        "\n",
        "disp = metrics.ConfusionMatrixDisplay(confusion_matrix=conf_met, display_labels=['Real(0)', 'Spoof(1)'])\n",
        "disp.plot();\n",
        "disp.figure_.savefig('face_anti_spoofing_model' +'roc.png', format='PNG')\n",
        "\n",
        "plot = skplt.metrics.plot_roc(labelss, pred_prob)\n",
        "fig = plot.get_figure()\n",
        "fig.savefig('face_anti_spoofing_model' +'Cmat.png', format='PNG')\n",
        "\n",
        "APCER, BPCER, ACER = calc_metrices(tp, tn, fp, fn)\n",
        "print(f\"Accuracy ->  {accu*100}\")\n",
        "print(f'True Positive -> {tp}   True Negative -> {tn}')\n",
        "print(f'False Positive -> {fp}   False Negative -> {fn}')\n",
        "print(f\"APCER -> {APCER},  BPCER -> {BPCER},  ACER -> {ACER}\")\n",
        "\n",
        "# current_time = datetime.datetime.now()\n",
        "# print(\"execution date and time:\", current_time)"
      ]
    },
    {
      "cell_type": "code",
      "execution_count": null,
      "metadata": {},
      "outputs": [],
      "source": []
    }
  ],
  "metadata": {
    "accelerator": "TPU",
    "colab": {
      "gpuType": "V28",
      "provenance": []
    },
    "kernelspec": {
      "display_name": "Python 3",
      "name": "python3"
    },
    "language_info": {
      "codemirror_mode": {
        "name": "ipython",
        "version": 3
      },
      "file_extension": ".py",
      "mimetype": "text/x-python",
      "name": "python",
      "nbconvert_exporter": "python",
      "pygments_lexer": "ipython3",
      "version": "3.9.15"
    }
  },
  "nbformat": 4,
  "nbformat_minor": 0
}
